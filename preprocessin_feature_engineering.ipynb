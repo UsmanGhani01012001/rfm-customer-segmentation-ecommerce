{
 "cells": [
  {
   "cell_type": "code",
   "execution_count": 2,
   "id": "9348aa90-0f33-4a11-8d55-38edc90dfcc4",
   "metadata": {},
   "outputs": [],
   "source": [
    "import pandas as pd\n",
    "import numpy as np\n",
    "import matplotlib.pyplot as plt\n",
    "import seaborn as sns\n",
    "import sklearn\n",
    "import datetime\n",
    "from sklearn.preprocessing import StandardScaler\n",
    "from sklearn.cluster import KMeans"
   ]
  },
  {
   "cell_type": "code",
   "execution_count": 4,
   "id": "a7fb56ef-bc89-45b6-a529-7d630f389eab",
   "metadata": {},
   "outputs": [
    {
     "name": "stdout",
     "output_type": "stream",
     "text": [
      "datetime64[ns]\n"
     ]
    }
   ],
   "source": [
    "df= pd.read_csv(\"customerSegmentation.csv\", parse_dates=[\"InvoiceDate\"])\n",
    "print(df[\"InvoiceDate\"].dtype)  # Should now be datetime64[ns]"
   ]
  },
  {
   "cell_type": "code",
   "execution_count": 8,
   "id": "3aac0c3e-fafe-4472-9519-73698a08600c",
   "metadata": {},
   "outputs": [
    {
     "name": "stdout",
     "output_type": "stream",
     "text": [
      "<class 'pandas.core.frame.DataFrame'>\n",
      "RangeIndex: 541909 entries, 0 to 541908\n",
      "Data columns (total 8 columns):\n",
      " #   Column       Non-Null Count   Dtype         \n",
      "---  ------       --------------   -----         \n",
      " 0   InvoiceNo    541909 non-null  object        \n",
      " 1   StockCode    541909 non-null  object        \n",
      " 2   Description  540455 non-null  object        \n",
      " 3   Quantity     541909 non-null  int64         \n",
      " 4   InvoiceDate  541909 non-null  datetime64[ns]\n",
      " 5   UnitPrice    541909 non-null  float64       \n",
      " 6   CustomerID   406829 non-null  float64       \n",
      " 7   Country      541909 non-null  object        \n",
      "dtypes: datetime64[ns](1), float64(2), int64(1), object(4)\n",
      "memory usage: 33.1+ MB\n"
     ]
    }
   ],
   "source": [
    "df.info()"
   ]
  },
  {
   "cell_type": "code",
   "execution_count": 6,
   "id": "7aac2c65-331c-49ed-9225-54defc95cdf8",
   "metadata": {},
   "outputs": [
    {
     "data": {
      "text/html": [
       "<div>\n",
       "<style scoped>\n",
       "    .dataframe tbody tr th:only-of-type {\n",
       "        vertical-align: middle;\n",
       "    }\n",
       "\n",
       "    .dataframe tbody tr th {\n",
       "        vertical-align: top;\n",
       "    }\n",
       "\n",
       "    .dataframe thead th {\n",
       "        text-align: right;\n",
       "    }\n",
       "</style>\n",
       "<table border=\"1\" class=\"dataframe\">\n",
       "  <thead>\n",
       "    <tr style=\"text-align: right;\">\n",
       "      <th></th>\n",
       "      <th>InvoiceNo</th>\n",
       "      <th>StockCode</th>\n",
       "      <th>Description</th>\n",
       "      <th>Quantity</th>\n",
       "      <th>InvoiceDate</th>\n",
       "      <th>UnitPrice</th>\n",
       "      <th>CustomerID</th>\n",
       "      <th>Country</th>\n",
       "    </tr>\n",
       "  </thead>\n",
       "  <tbody>\n",
       "    <tr>\n",
       "      <th>0</th>\n",
       "      <td>536365</td>\n",
       "      <td>85123A</td>\n",
       "      <td>WHITE HANGING HEART T-LIGHT HOLDER</td>\n",
       "      <td>6</td>\n",
       "      <td>2010-12-01 08:26:00</td>\n",
       "      <td>2.55</td>\n",
       "      <td>17850.0</td>\n",
       "      <td>United Kingdom</td>\n",
       "    </tr>\n",
       "    <tr>\n",
       "      <th>1</th>\n",
       "      <td>536365</td>\n",
       "      <td>71053</td>\n",
       "      <td>WHITE METAL LANTERN</td>\n",
       "      <td>6</td>\n",
       "      <td>2010-12-01 08:26:00</td>\n",
       "      <td>3.39</td>\n",
       "      <td>17850.0</td>\n",
       "      <td>United Kingdom</td>\n",
       "    </tr>\n",
       "    <tr>\n",
       "      <th>2</th>\n",
       "      <td>536365</td>\n",
       "      <td>84406B</td>\n",
       "      <td>CREAM CUPID HEARTS COAT HANGER</td>\n",
       "      <td>8</td>\n",
       "      <td>2010-12-01 08:26:00</td>\n",
       "      <td>2.75</td>\n",
       "      <td>17850.0</td>\n",
       "      <td>United Kingdom</td>\n",
       "    </tr>\n",
       "    <tr>\n",
       "      <th>3</th>\n",
       "      <td>536365</td>\n",
       "      <td>84029G</td>\n",
       "      <td>KNITTED UNION FLAG HOT WATER BOTTLE</td>\n",
       "      <td>6</td>\n",
       "      <td>2010-12-01 08:26:00</td>\n",
       "      <td>3.39</td>\n",
       "      <td>17850.0</td>\n",
       "      <td>United Kingdom</td>\n",
       "    </tr>\n",
       "    <tr>\n",
       "      <th>4</th>\n",
       "      <td>536365</td>\n",
       "      <td>84029E</td>\n",
       "      <td>RED WOOLLY HOTTIE WHITE HEART.</td>\n",
       "      <td>6</td>\n",
       "      <td>2010-12-01 08:26:00</td>\n",
       "      <td>3.39</td>\n",
       "      <td>17850.0</td>\n",
       "      <td>United Kingdom</td>\n",
       "    </tr>\n",
       "    <tr>\n",
       "      <th>5</th>\n",
       "      <td>536365</td>\n",
       "      <td>22752</td>\n",
       "      <td>SET 7 BABUSHKA NESTING BOXES</td>\n",
       "      <td>2</td>\n",
       "      <td>2010-12-01 08:26:00</td>\n",
       "      <td>7.65</td>\n",
       "      <td>17850.0</td>\n",
       "      <td>United Kingdom</td>\n",
       "    </tr>\n",
       "    <tr>\n",
       "      <th>6</th>\n",
       "      <td>536365</td>\n",
       "      <td>21730</td>\n",
       "      <td>GLASS STAR FROSTED T-LIGHT HOLDER</td>\n",
       "      <td>6</td>\n",
       "      <td>2010-12-01 08:26:00</td>\n",
       "      <td>4.25</td>\n",
       "      <td>17850.0</td>\n",
       "      <td>United Kingdom</td>\n",
       "    </tr>\n",
       "  </tbody>\n",
       "</table>\n",
       "</div>"
      ],
      "text/plain": [
       "  InvoiceNo StockCode                          Description  Quantity  \\\n",
       "0    536365    85123A   WHITE HANGING HEART T-LIGHT HOLDER         6   \n",
       "1    536365     71053                  WHITE METAL LANTERN         6   \n",
       "2    536365    84406B       CREAM CUPID HEARTS COAT HANGER         8   \n",
       "3    536365    84029G  KNITTED UNION FLAG HOT WATER BOTTLE         6   \n",
       "4    536365    84029E       RED WOOLLY HOTTIE WHITE HEART.         6   \n",
       "5    536365     22752         SET 7 BABUSHKA NESTING BOXES         2   \n",
       "6    536365     21730    GLASS STAR FROSTED T-LIGHT HOLDER         6   \n",
       "\n",
       "          InvoiceDate  UnitPrice CustomerID         Country  \n",
       "0 2010-12-01 08:26:00       2.55    17850.0  United Kingdom  \n",
       "1 2010-12-01 08:26:00       3.39    17850.0  United Kingdom  \n",
       "2 2010-12-01 08:26:00       2.75    17850.0  United Kingdom  \n",
       "3 2010-12-01 08:26:00       3.39    17850.0  United Kingdom  \n",
       "4 2010-12-01 08:26:00       3.39    17850.0  United Kingdom  \n",
       "5 2010-12-01 08:26:00       7.65    17850.0  United Kingdom  \n",
       "6 2010-12-01 08:26:00       4.25    17850.0  United Kingdom  "
      ]
     },
     "execution_count": 6,
     "metadata": {},
     "output_type": "execute_result"
    }
   ],
   "source": [
    "df['CustomerID'] = df['CustomerID'].astype(str)\n",
    "df.head(7)"
   ]
  },
  {
   "cell_type": "code",
   "execution_count": 8,
   "id": "a8c3dfb1-8e4f-4f5f-9a69-232be3d718c8",
   "metadata": {},
   "outputs": [
    {
     "name": "stdout",
     "output_type": "stream",
     "text": [
      "InvoiceNo      0.00\n",
      "StockCode      0.00\n",
      "Description    0.27\n",
      "Quantity       0.00\n",
      "InvoiceDate    0.00\n",
      "UnitPrice      0.00\n",
      "CustomerID     0.00\n",
      "Country        0.00\n",
      "dtype: float64\n",
      "missing descriptions 1454\n",
      "i fillde missing descriptions by mode now 0\n",
      "total duplicates in dataset 5268\n",
      "i removed duplicates now  0\n"
     ]
    }
   ],
   "source": [
    "print(round(100*(df.isnull().sum())/len(df), 2))\n",
    "print('missing descriptions',df['Description'].isnull().sum())\n",
    "df['Description']=df['Description'].fillna(df['Description'].mode()[0])\n",
    "print('i fillde missing descriptions by mode now',df['Description'].isnull().sum())\n",
    "print('total duplicates in dataset', df.duplicated().sum())\n",
    "df=df.drop_duplicates()\n",
    "print('i removed duplicates now ', df.duplicated().sum())"
   ]
  },
  {
   "cell_type": "code",
   "execution_count": 10,
   "id": "79712b33-9bdc-4052-9e72-ea47cf43187a",
   "metadata": {},
   "outputs": [],
   "source": [
    "df['Amount'] = df['Quantity'] * df['UnitPrice']\n",
    "monetary = df.groupby('CustomerID')['Amount'].sum().reset_index()"
   ]
  },
  {
   "cell_type": "code",
   "execution_count": 14,
   "id": "c813d8f4-d63e-4231-b633-2a00cf8e536a",
   "metadata": {},
   "outputs": [],
   "source": [
    "recency = df.groupby('CustomerID')['InvoiceDate'].max().apply(lambda x: (df['InvoiceDate'].max() - x).days).reset_index()\n",
    "recency.columns = ['CustomerID', 'Recency']"
   ]
  },
  {
   "cell_type": "code",
   "execution_count": 12,
   "id": "07b073b9-7d96-40aa-839b-3d5ccef84e88",
   "metadata": {},
   "outputs": [],
   "source": [
    "frequency = df.groupby('CustomerID')['InvoiceNo'].nunique().reset_index()\n",
    "frequency.columns = ['CustomerID', 'Frequency']"
   ]
  },
  {
   "cell_type": "code",
   "execution_count": 16,
   "id": "14f1d333-cd8c-46c6-bb5a-1aa6b4f9cdcd",
   "metadata": {},
   "outputs": [],
   "source": [
    "rfm= pd.merge(pd.merge(monetary, recency, on='CustomerID', how='inner'), frequency, on='CustomerID', how='inner')"
   ]
  },
  {
   "cell_type": "code",
   "execution_count": 18,
   "id": "238a16fc-1d54-4a4c-8878-987ab64cffcf",
   "metadata": {},
   "outputs": [
    {
     "name": "stdout",
     "output_type": "stream",
     "text": [
      "  CustomerID   Amount\n",
      "0    12346.0     0.00\n",
      "1    12347.0  4310.00\n",
      "2    12348.0  1797.24\n",
      "3    12349.0  1757.55\n",
      "4    12350.0   334.40\n",
      "  CustomerID  Recency\n",
      "0    12346.0      325\n",
      "1    12347.0        1\n",
      "2    12348.0       74\n",
      "3    12349.0       18\n",
      "4    12350.0      309\n",
      "  CustomerID  Frequency\n",
      "0    12346.0          2\n",
      "1    12347.0          7\n",
      "2    12348.0          4\n",
      "3    12349.0          1\n",
      "4    12350.0          1\n",
      "  CustomerID   Amount  Recency  Frequency\n",
      "0    12346.0     0.00      325          2\n",
      "1    12347.0  4310.00        1          7\n",
      "2    12348.0  1797.24       74          4\n",
      "3    12349.0  1757.55       18          1\n",
      "4    12350.0   334.40      309          1\n"
     ]
    }
   ],
   "source": [
    "print(monetary.head())\n",
    "print(recency.head())\n",
    "print(frequency.head())\n",
    "print(rfm.head())"
   ]
  },
  {
   "cell_type": "code",
   "execution_count": null,
   "id": "f83fadc5-8fbb-4997-a5f5-7070c8cc3c75",
   "metadata": {},
   "outputs": [],
   "source": []
  },
  {
   "cell_type": "code",
   "execution_count": 22,
   "id": "3fcb6a23-a764-4f72-974a-4733ef663e45",
   "metadata": {},
   "outputs": [
    {
     "data": {
      "image/png": "[encoded data removed]",
      "text/plain": [
       "<Figure size 1500x500 with 3 Axes>"
      ]
     },
     "metadata": {},
     "output_type": "display_data"
    }
   ],
   "source": [
    "import matplotlib.pyplot as plt\n",
    "import seaborn as sns\n",
    "\n",
    "# Assume your merged DataFrame is called `rfm` and has columns: Recency, Frequency, Monetary\n",
    "\n",
    "plt.figure(figsize=(15, 5))\n",
    "\n",
    "# Recency\n",
    "plt.subplot(1, 3, 1)\n",
    "sns.boxplot(y=rfm['Recency'], color='lightblue')\n",
    "plt.title('Recency Outliers')\n",
    "\n",
    "# Frequency\n",
    "plt.subplot(1, 3, 2)\n",
    "sns.boxplot(y=rfm['Frequency'], color='lightgreen')\n",
    "plt.title('Frequency Outliers')\n",
    "\n",
    "# Monetary\n",
    "plt.subplot(1, 3, 3)\n",
    "sns.boxplot(y=rfm['Amount'], color='lightcoral')\n",
    "plt.title('Amount Outliers')\n",
    "\n",
    "plt.tight_layout()\n",
    "plt.show()\n"
   ]
  },
  {
   "cell_type": "code",
   "execution_count": 27,
   "id": "e89e8d42-57ce-4974-b0e1-fcd0d189254c",
   "metadata": {},
   "outputs": [
    {
     "data": {
      "text/plain": [
       "<Axes: >"
      ]
     },
     "execution_count": 27,
     "metadata": {},
     "output_type": "execute_result"
    },
    {
     "data": {
      "image/png": "[encoded data removed]",
      "text/plain": [
       "<Figure size 640x480 with 1 Axes>"
      ]
     },
     "metadata": {},
     "output_type": "display_data"
    }
   ],
   "source": [
    "sns.boxplot(data=rfm[['Recency', 'Frequency', 'Amount']])"
   ]
  },
  {
   "cell_type": "code",
   "execution_count": 20,
   "id": "3ced9095-da3e-422d-a9c4-a05eb01d5300",
   "metadata": {},
   "outputs": [
    {
     "data": {
      "text/plain": [
       "Amount       23353.913810\n",
       "Recency        100.763317\n",
       "Frequency       56.798813\n",
       "dtype: float64"
      ]
     },
     "execution_count": 20,
     "metadata": {},
     "output_type": "execute_result"
    }
   ],
   "source": [
    "rfm.std(numeric_only=True)"
   ]
  },
  {
   "cell_type": "code",
   "execution_count": 38,
   "id": "2c919055-ec06-468b-a98f-d63e30e9233f",
   "metadata": {},
   "outputs": [
    {
     "data": {
      "text/plain": [
       "1050.0369326791206"
      ]
     },
     "execution_count": 38,
     "metadata": {},
     "output_type": "execute_result"
    }
   ],
   "source": [
    "a=(rfm['Recency'].std()/ rfm['Recency'].mean()) * 100\n",
    "a"
   ]
  },
  {
   "cell_type": "code",
   "execution_count": null,
   "id": "ef56b973-d90f-4276-9ac0-c358745bbc76",
   "metadata": {},
   "outputs": [],
   "source": []
  }
 ],
 "metadata": {
  "kernelspec": {
   "display_name": "Python (ChatBoot)",
   "language": "python",
   "name": "project1"
  },
  "language_info": {
   "codemirror_mode": {
    "name": "ipython",
    "version": 3
   },
   "file_extension": ".py",
   "mimetype": "text/x-python",
   "name": "python",
   "nbconvert_exporter": "python",
   "pygments_lexer": "ipython3",
   "version": "3.10.11"
  }
 },
 "nbformat": 4,
 "nbformat_minor": 5
}
